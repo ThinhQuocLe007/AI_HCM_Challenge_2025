{
 "cells": [
  {
   "cell_type": "code",
   "execution_count": 8,
   "id": "395ecc31",
   "metadata": {},
   "outputs": [],
   "source": [
    "import glob\n",
    "import os \n"
   ]
  },
  {
   "cell_type": "code",
   "execution_count": 9,
   "id": "0b9eade4",
   "metadata": {},
   "outputs": [
    {
     "name": "stdout",
     "output_type": "stream",
     "text": [
      "920\n"
     ]
    }
   ],
   "source": [
    "root_folder = '../Keyframes'\n",
    "# Get all images recursively\n",
    "image_paths = sorted(glob.glob(os.path.join(root_folder, \"**\", \"*.jpg\"), recursive=True))\n",
    "print(len(image_paths))"
   ]
  },
  {
   "cell_type": "code",
   "execution_count": null,
   "id": "3b9a18bc",
   "metadata": {},
   "outputs": [],
   "source": []
  }
 ],
 "metadata": {
  "kernelspec": {
   "display_name": "llave",
   "language": "python",
   "name": "python3"
  },
  "language_info": {
   "codemirror_mode": {
    "name": "ipython",
    "version": 3
   },
   "file_extension": ".py",
   "mimetype": "text/x-python",
   "name": "python",
   "nbconvert_exporter": "python",
   "pygments_lexer": "ipython3",
   "version": "3.10.18"
  }
 },
 "nbformat": 4,
 "nbformat_minor": 5
}
