{
 "cells": [
  {
   "cell_type": "code",
   "execution_count": null,
   "id": "51f56e84",
   "metadata": {},
   "outputs": [],
   "source": [
    "import faiss\n",
    "import numpy as np\n",
    "import json\n",
    "\n",
    "from import_llave import load_llave_model\n",
    "from embed_utils import embed_text\n",
    "\n",
    "# Load embeddings and metadata\n",
    "E = np.load(\"llave_embeddings.npy\")  # shape (N, D)\n",
    "with open(\"llave_metadata.json\", \"r\", encoding=\"utf-8\") as f:\n",
    "    META = json.load(f)\n",
    "\n",
    "assert len(META) == len(E), \"Metadata and embedding count mismatch.\"\n",
    "\n",
    "# Normalize if not already\n",
    "E = E.astype(np.float32)\n",
    "E /= (np.linalg.norm(E, axis=1, keepdims=True) + 1e-12)\n",
    "\n",
    "# Build FAISS index\n",
    "D = E.shape[1]\n",
    "index = faiss.IndexFlatIP(D)  # cosine if vectors are unit-normalized\n",
    "index.add(E)\n",
    "\n",
    "# Load model\n",
    "tokenizer, model, image_processor, device = load_llave_model()\n",
    "\n",
    "def search_query(query: str, topk: int = 5):\n",
    "    vec = embed_text(query, model, tokenizer, device)  # (D,)\n",
    "    vec = np.asarray(vec, dtype=np.float32)\n",
    "    vec /= (np.linalg.norm(vec) + 1e-12)\n",
    "\n",
    "    scores, indices = index.search(vec.reshape(1, -1), topk)\n",
    "    for i, (score, idx) in enumerate(zip(scores[0], indices[0])):\n",
    "        print(f\"{i+1:>2}. score={score:.4f}  →  {META[idx]['path']}\")\n",
    "        # Optional: load or display the image using META[idx][\"path\"]"
   ]
  },
  {
   "cell_type": "code",
   "execution_count": null,
   "id": "4fcad56a",
   "metadata": {},
   "outputs": [],
   "source": [
    "q = input(\"a forklift lifting a box\").strip()\n",
    "search_query(q, topk=5)"
   ]
  }
 ],
 "metadata": {
  "language_info": {
   "name": "python"
  }
 },
 "nbformat": 4,
 "nbformat_minor": 5
}
