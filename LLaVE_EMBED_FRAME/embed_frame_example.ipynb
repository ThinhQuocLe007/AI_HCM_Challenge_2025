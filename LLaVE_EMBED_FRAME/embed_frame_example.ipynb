{
 "cells": [
  {
   "cell_type": "code",
   "execution_count": 1,
   "id": "6e6d52c6",
   "metadata": {},
   "outputs": [],
   "source": [
    "import warnings\n",
    "warnings.filterwarnings('ignore')"
   ]
  },
  {
   "cell_type": "code",
   "execution_count": 5,
   "id": "140c7bc0",
   "metadata": {},
   "outputs": [],
   "source": [
    "from modules.import_llave import load_llave_model\n",
    "from modules.embed_utils import embed_frame\n",
    "import os\n",
    "import numpy as np \n",
    "import json \n",
    "import glob\n",
    "from tqdm import tqdm\n",
    "import yaml "
   ]
  },
  {
   "cell_type": "code",
   "execution_count": null,
   "id": "99a6ee69",
   "metadata": {},
   "outputs": [],
   "source": [
    "with open('../config.yaml', 'r') as f: \n",
    "    config = yaml.safe_load(f)\n",
    "\n",
    "root_folder = config['root_folder']\n",
    "output_embedding_file = config['output_embedding_file']\n",
    "output_metadata_file = config['output_metadata_file']"
   ]
  },
  {
   "cell_type": "code",
   "execution_count": 10,
   "id": "f4e10c40",
   "metadata": {},
   "outputs": [
    {
     "name": "stdout",
     "output_type": "stream",
     "text": [
      "Loaded LLaVA model: zhibinlan/LLaVE-0.5B\n"
     ]
    },
    {
     "name": "stderr",
     "output_type": "stream",
     "text": [
      "Special tokens have been added in the vocabulary, make sure the associated word embeddings are fine-tuned or trained.\n",
      "You are using a model of type llava to instantiate a model of type llava_qwen. This is not supported for all configurations of models and can yield errors.\n"
     ]
    },
    {
     "name": "stdout",
     "output_type": "stream",
     "text": [
      "Loading vision tower: google/siglip-so400m-patch14-384\n"
     ]
    },
    {
     "name": "stderr",
     "output_type": "stream",
     "text": [
      "Some weights of LlavaQwenForCausalLM were not initialized from the model checkpoint at zhibinlan/LLaVE-0.5B and are newly initialized: ['lm_head.weight']\n",
      "You should probably TRAIN this model on a down-stream task to be able to use it for predictions and inference.\n"
     ]
    },
    {
     "name": "stdout",
     "output_type": "stream",
     "text": [
      "Model Class: LlavaQwenForCausalLM\n",
      "Embed with cuda\n"
     ]
    },
    {
     "name": "stderr",
     "output_type": "stream",
     "text": [
      "Embedding frames: 100%|██████████| 488/488 [03:20<00:00,  2.44it/s]"
     ]
    },
    {
     "name": "stdout",
     "output_type": "stream",
     "text": [
      "\n",
      "Embedded 488 images.\n",
      "Saved: /home/quocthinh/Desktop/pythonCode/AIC_2025/llave_embeddings.bin and /home/quocthinh/Desktop/pythonCode/AIC_2025/llave_metadata.json\n"
     ]
    },
    {
     "name": "stderr",
     "output_type": "stream",
     "text": [
      "\n"
     ]
    }
   ],
   "source": [
    "# Load model \n",
    "tokenizer, model, image_processor, device = load_llave_model()\n",
    "print(f'Embed with {device}')\n",
    "# Embed \n",
    "image_paths = sorted(glob.glob(os.path.join(root_folder, \"**\", \"*.jpg\"), recursive=True))\n",
    "all_embeddings = [] \n",
    "all_paths = [] \n",
    "\n",
    "for image_path in tqdm(image_paths, desc='Embedding frames'): \n",
    "    try: \n",
    "        emb = embed_frame(image_path, model, tokenizer, image_processor, device)\n",
    "        all_embeddings.append(emb.astype(np.float32))\n",
    "        all_paths.append(image_path)\n",
    "    except Exception as e: \n",
    "        print(f'[WARNING] Failed to embed {image_path} : {e}') \n",
    "\n",
    "# === Save to .bin and .json ===\n",
    "embedding_matrix = np.vstack(all_embeddings)\n",
    "embedding_matrix.tofile(output_embedding_file)\n",
    "\n",
    "with open(output_metadata_file, \"w\", encoding=\"utf-8\") as f:\n",
    "    json.dump({\n",
    "        \"shape\": embedding_matrix.shape,\n",
    "        \"dtype\": \"float32\",\n",
    "        \"paths\": all_paths\n",
    "    }, f, indent=2, ensure_ascii=False)\n",
    "\n",
    "print(f\"\\nEmbedded {len(all_paths)} images.\")\n",
    "print(f\"Saved: {output_embedding_file} and {output_metadata_file}\")\n"
   ]
  },
  {
   "cell_type": "code",
   "execution_count": null,
   "id": "462d6b7e",
   "metadata": {},
   "outputs": [],
   "source": []
  }
 ],
 "metadata": {
  "kernelspec": {
   "display_name": "llave",
   "language": "python",
   "name": "python3"
  },
  "language_info": {
   "codemirror_mode": {
    "name": "ipython",
    "version": 3
   },
   "file_extension": ".py",
   "mimetype": "text/x-python",
   "name": "python",
   "nbconvert_exporter": "python",
   "pygments_lexer": "ipython3",
   "version": "3.10.18"
  }
 },
 "nbformat": 4,
 "nbformat_minor": 5
}
